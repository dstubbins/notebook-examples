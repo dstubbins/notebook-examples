{
 "cells": [
  {
   "cell_type": "markdown",
   "metadata": {},
   "source": [
    "# Spatial Data frames, arcpy and the Python API for local data\n",
    "This notebook works with local data in filegeodatabases, using spatial data frames and arcpy to access local data and geoprocessing. You will need arcpy installed (By installing ArcGIS Pro) to use this"
   ]
  },
  {
   "cell_type": "markdown",
   "metadata": {},
   "source": [
    "import arcpy as well as the arcgis api for python"
   ]
  },
  {
   "cell_type": "code",
   "execution_count": 1,
   "metadata": {},
   "outputs": [],
   "source": [
    "import arcpy\n",
    "import os\n",
    "from arcgis import GIS\n",
    "from arcgis.features import SpatialDataFrame"
   ]
  },
  {
   "cell_type": "markdown",
   "metadata": {},
   "source": [
    "Get the sample data from ArcGIS Online, by downloading and unzipping the file https://github.com/dstubbins/notebook-examples/blob/master/OSOpenRoadsSample.gdb.zip"
   ]
  },
  {
   "cell_type": "markdown",
   "metadata": {},
   "source": [
    "Use arcpy to list the contents of a local file geodatabase"
   ]
  },
  {
   "cell_type": "code",
   "execution_count": 2,
   "metadata": {},
   "outputs": [
    {
     "name": "stdout",
     "output_type": "stream",
     "text": [
      "C:\\Data\\OSOpenRoadsSample.gdb\\SZ_RoadLink\n",
      "C:\\Data\\OSOpenRoadsSample.gdb\\SZ_RoadNode\n"
     ]
    }
   ],
   "source": [
    "arcpy.env.workspace = \"C:\\\\Data\\\\OSOpenRoadsSample.gdb\"\n",
    "\n",
    "datasets = arcpy.ListDatasets(feature_type='feature')\n",
    "datasets = [''] + datasets if datasets is not None else []\n",
    "\n",
    "for ds in datasets:\n",
    "    for fc in arcpy.ListFeatureClasses(feature_dataset=ds):\n",
    "        path = os.path.join(arcpy.env.workspace, ds, fc)\n",
    "        print(path)\n",
    "\n"
   ]
  },
  {
   "cell_type": "markdown",
   "metadata": {},
   "source": [
    "Create a spatially enabled dataframe from a featureclass in a geodatabase"
   ]
  },
  {
   "cell_type": "code",
   "execution_count": 3,
   "metadata": {},
   "outputs": [
    {
     "data": {
      "text/html": [
       "<div>\n",
       "<style scoped>\n",
       "    .dataframe tbody tr th:only-of-type {\n",
       "        vertical-align: middle;\n",
       "    }\n",
       "\n",
       "    .dataframe tbody tr th {\n",
       "        vertical-align: top;\n",
       "    }\n",
       "\n",
       "    .dataframe thead th {\n",
       "        text-align: right;\n",
       "    }\n",
       "</style>\n",
       "<table border=\"1\" class=\"dataframe\">\n",
       "  <thead>\n",
       "    <tr style=\"text-align: right;\">\n",
       "      <th></th>\n",
       "      <th>OBJECTID</th>\n",
       "      <th>fictitious</th>\n",
       "      <th>identifier</th>\n",
       "      <th>class</th>\n",
       "      <th>roadNumber</th>\n",
       "      <th>name1</th>\n",
       "      <th>name1_lang</th>\n",
       "      <th>name2</th>\n",
       "      <th>name2_lang</th>\n",
       "      <th>formOfWay</th>\n",
       "      <th>...</th>\n",
       "      <th>primary</th>\n",
       "      <th>trunkRoad</th>\n",
       "      <th>loop</th>\n",
       "      <th>startNode</th>\n",
       "      <th>endNode</th>\n",
       "      <th>structure</th>\n",
       "      <th>nameTOID</th>\n",
       "      <th>numberTOID</th>\n",
       "      <th>function</th>\n",
       "      <th>SHAPE</th>\n",
       "    </tr>\n",
       "  </thead>\n",
       "  <tbody>\n",
       "    <tr>\n",
       "      <th>38367</th>\n",
       "      <td>38368</td>\n",
       "      <td>false</td>\n",
       "      <td>22DD7471-5E77-49BF-840F-E80A1D9D1672</td>\n",
       "      <td>Unclassified</td>\n",
       "      <td></td>\n",
       "      <td>Burnham's Lane</td>\n",
       "      <td></td>\n",
       "      <td></td>\n",
       "      <td></td>\n",
       "      <td>Single Carriageway</td>\n",
       "      <td>...</td>\n",
       "      <td>false</td>\n",
       "      <td>false</td>\n",
       "      <td>false</td>\n",
       "      <td>0EEB4DC9-4C04-4146-BD54-444A5549C452</td>\n",
       "      <td>FF8E37BE-314F-41CA-A00D-E33DCD5DE01B</td>\n",
       "      <td></td>\n",
       "      <td>osgb4000000026192123</td>\n",
       "      <td></td>\n",
       "      <td>Minor Road</td>\n",
       "      <td>{'hasZ': True, 'hasM': True, 'paths': [[[40022...</td>\n",
       "    </tr>\n",
       "    <tr>\n",
       "      <th>38368</th>\n",
       "      <td>38369</td>\n",
       "      <td>false</td>\n",
       "      <td>A3525E5A-B26A-4304-8D02-52E69D40A99C</td>\n",
       "      <td>Unknown</td>\n",
       "      <td></td>\n",
       "      <td></td>\n",
       "      <td></td>\n",
       "      <td></td>\n",
       "      <td></td>\n",
       "      <td>Single Carriageway</td>\n",
       "      <td>...</td>\n",
       "      <td>false</td>\n",
       "      <td>false</td>\n",
       "      <td>false</td>\n",
       "      <td>FF8E37BE-314F-41CA-A00D-E33DCD5DE01B</td>\n",
       "      <td>9C64F682-5F99-462C-8B05-3779CE80497D</td>\n",
       "      <td></td>\n",
       "      <td></td>\n",
       "      <td></td>\n",
       "      <td>Restricted Local Access Road</td>\n",
       "      <td>{'hasZ': True, 'hasM': True, 'paths': [[[40095...</td>\n",
       "    </tr>\n",
       "    <tr>\n",
       "      <th>38369</th>\n",
       "      <td>38370</td>\n",
       "      <td>false</td>\n",
       "      <td>0228CD38-90C1-47A1-826C-6F01118AC9A5</td>\n",
       "      <td>B Road</td>\n",
       "      <td>B3069</td>\n",
       "      <td>High Street</td>\n",
       "      <td></td>\n",
       "      <td></td>\n",
       "      <td></td>\n",
       "      <td>Single Carriageway</td>\n",
       "      <td>...</td>\n",
       "      <td>false</td>\n",
       "      <td>false</td>\n",
       "      <td>false</td>\n",
       "      <td>2010D55C-8F87-4868-8993-8026831B36C7</td>\n",
       "      <td>48B272BA-E259-4A8E-BE1F-7669A7760F4F</td>\n",
       "      <td></td>\n",
       "      <td>osgb4000000026194616</td>\n",
       "      <td>osgb4000000026200648</td>\n",
       "      <td>B Road</td>\n",
       "      <td>{'hasZ': True, 'hasM': True, 'paths': [[[40003...</td>\n",
       "    </tr>\n",
       "    <tr>\n",
       "      <th>38370</th>\n",
       "      <td>38371</td>\n",
       "      <td>false</td>\n",
       "      <td>0825A040-D4C9-4595-8389-107A62B74789</td>\n",
       "      <td>Unknown</td>\n",
       "      <td></td>\n",
       "      <td></td>\n",
       "      <td></td>\n",
       "      <td></td>\n",
       "      <td></td>\n",
       "      <td>Single Carriageway</td>\n",
       "      <td>...</td>\n",
       "      <td>false</td>\n",
       "      <td>false</td>\n",
       "      <td>false</td>\n",
       "      <td>2010D55C-8F87-4868-8993-8026831B36C7</td>\n",
       "      <td>B85DDEA5-3950-45AD-8569-16D51BEB57C5</td>\n",
       "      <td></td>\n",
       "      <td></td>\n",
       "      <td></td>\n",
       "      <td>Restricted Local Access Road</td>\n",
       "      <td>{'hasZ': True, 'hasM': True, 'paths': [[[40003...</td>\n",
       "    </tr>\n",
       "    <tr>\n",
       "      <th>38371</th>\n",
       "      <td>38372</td>\n",
       "      <td>false</td>\n",
       "      <td>FEA5AA37-7797-47D9-BAD9-431E41AE6B60</td>\n",
       "      <td>A Road</td>\n",
       "      <td>A351</td>\n",
       "      <td>Valley Road</td>\n",
       "      <td></td>\n",
       "      <td></td>\n",
       "      <td></td>\n",
       "      <td>Single Carriageway</td>\n",
       "      <td>...</td>\n",
       "      <td>false</td>\n",
       "      <td>false</td>\n",
       "      <td>false</td>\n",
       "      <td>CF3E04F4-E54E-4382-A6CD-BBBFCAF3BB54</td>\n",
       "      <td>D09558E3-26FD-4ACF-92CE-818BEC568CEB</td>\n",
       "      <td></td>\n",
       "      <td>osgb4000000026192999</td>\n",
       "      <td>osgb4000000025961505</td>\n",
       "      <td>A Road</td>\n",
       "      <td>{'hasZ': True, 'hasM': True, 'paths': [[[39994...</td>\n",
       "    </tr>\n",
       "  </tbody>\n",
       "</table>\n",
       "<p>5 rows × 21 columns</p>\n",
       "</div>"
      ],
      "text/plain": [
       "       OBJECTID fictitious                            identifier  \\\n",
       "38367     38368      false  22DD7471-5E77-49BF-840F-E80A1D9D1672   \n",
       "38368     38369      false  A3525E5A-B26A-4304-8D02-52E69D40A99C   \n",
       "38369     38370      false  0228CD38-90C1-47A1-826C-6F01118AC9A5   \n",
       "38370     38371      false  0825A040-D4C9-4595-8389-107A62B74789   \n",
       "38371     38372      false  FEA5AA37-7797-47D9-BAD9-431E41AE6B60   \n",
       "\n",
       "              class roadNumber           name1 name1_lang name2 name2_lang  \\\n",
       "38367  Unclassified             Burnham's Lane                               \n",
       "38368       Unknown                                                          \n",
       "38369        B Road      B3069     High Street                               \n",
       "38370       Unknown                                                          \n",
       "38371        A Road       A351     Valley Road                               \n",
       "\n",
       "                formOfWay                        ...                          \\\n",
       "38367  Single Carriageway                        ...                           \n",
       "38368  Single Carriageway                        ...                           \n",
       "38369  Single Carriageway                        ...                           \n",
       "38370  Single Carriageway                        ...                           \n",
       "38371  Single Carriageway                        ...                           \n",
       "\n",
       "       primary trunkRoad   loop                             startNode  \\\n",
       "38367    false     false  false  0EEB4DC9-4C04-4146-BD54-444A5549C452   \n",
       "38368    false     false  false  FF8E37BE-314F-41CA-A00D-E33DCD5DE01B   \n",
       "38369    false     false  false  2010D55C-8F87-4868-8993-8026831B36C7   \n",
       "38370    false     false  false  2010D55C-8F87-4868-8993-8026831B36C7   \n",
       "38371    false     false  false  CF3E04F4-E54E-4382-A6CD-BBBFCAF3BB54   \n",
       "\n",
       "                                    endNode structure              nameTOID  \\\n",
       "38367  FF8E37BE-314F-41CA-A00D-E33DCD5DE01B            osgb4000000026192123   \n",
       "38368  9C64F682-5F99-462C-8B05-3779CE80497D                                   \n",
       "38369  48B272BA-E259-4A8E-BE1F-7669A7760F4F            osgb4000000026194616   \n",
       "38370  B85DDEA5-3950-45AD-8569-16D51BEB57C5                                   \n",
       "38371  D09558E3-26FD-4ACF-92CE-818BEC568CEB            osgb4000000026192999   \n",
       "\n",
       "                 numberTOID                      function  \\\n",
       "38367                                          Minor Road   \n",
       "38368                        Restricted Local Access Road   \n",
       "38369  osgb4000000026200648                        B Road   \n",
       "38370                        Restricted Local Access Road   \n",
       "38371  osgb4000000025961505                        A Road   \n",
       "\n",
       "                                                   SHAPE  \n",
       "38367  {'hasZ': True, 'hasM': True, 'paths': [[[40022...  \n",
       "38368  {'hasZ': True, 'hasM': True, 'paths': [[[40095...  \n",
       "38369  {'hasZ': True, 'hasM': True, 'paths': [[[40003...  \n",
       "38370  {'hasZ': True, 'hasM': True, 'paths': [[[40003...  \n",
       "38371  {'hasZ': True, 'hasM': True, 'paths': [[[39994...  \n",
       "\n",
       "[5 rows x 21 columns]"
      ]
     },
     "execution_count": 3,
     "metadata": {},
     "output_type": "execute_result"
    }
   ],
   "source": [
    "sdf = SpatialDataFrame.from_featureclass('C:\\Data\\OSOpenRoadsSample.gdb\\SZ_RoadLink')\n",
    "sdf.tail()"
   ]
  },
  {
   "cell_type": "markdown",
   "metadata": {},
   "source": [
    "describe the data"
   ]
  },
  {
   "cell_type": "code",
   "execution_count": 4,
   "metadata": {},
   "outputs": [
    {
     "name": "stdout",
     "output_type": "stream",
     "text": [
      "<class 'pandas.core.frame.DataFrame'>\n",
      "RangeIndex: 38372 entries, 0 to 38371\n",
      "Data columns (total 20 columns):\n",
      "OBJECTID      38372 non-null int64\n",
      "fictitious    38372 non-null object\n",
      "identifier    38372 non-null object\n",
      "class         38372 non-null object\n",
      "roadNumber    38372 non-null object\n",
      "name1         38372 non-null object\n",
      "name1_lang    38372 non-null object\n",
      "name2         38372 non-null object\n",
      "name2_lang    38372 non-null object\n",
      "formOfWay     38372 non-null object\n",
      "length        38372 non-null int64\n",
      "primary       38372 non-null object\n",
      "trunkRoad     38372 non-null object\n",
      "loop          38372 non-null object\n",
      "startNode     38372 non-null object\n",
      "endNode       38372 non-null object\n",
      "structure     38372 non-null object\n",
      "nameTOID      38372 non-null object\n",
      "numberTOID    38372 non-null object\n",
      "function      38372 non-null object\n",
      "dtypes: int64(2), object(18)\n",
      "memory usage: 5.9+ MB\n"
     ]
    }
   ],
   "source": [
    "sdf.info()"
   ]
  },
  {
   "cell_type": "code",
   "execution_count": 5,
   "metadata": {},
   "outputs": [
    {
     "data": {
      "text/plain": [
       "OBJECTID    38372\n",
       "dtype: int64"
      ]
     },
     "execution_count": 5,
     "metadata": {},
     "output_type": "execute_result"
    }
   ],
   "source": [
    "sdf[['OBJECTID']].count()"
   ]
  },
  {
   "cell_type": "markdown",
   "metadata": {},
   "source": [
    "# Do some Pandas Stuff"
   ]
  },
  {
   "cell_type": "markdown",
   "metadata": {},
   "source": [
    "How many of each type of road?"
   ]
  },
  {
   "cell_type": "code",
   "execution_count": 6,
   "metadata": {},
   "outputs": [
    {
     "data": {
      "text/plain": [
       "class\n",
       "A Road                    2329\n",
       "B Road                    1985\n",
       "Classified Unnumbered     3176\n",
       "Not Classified            3891\n",
       "Unclassified             19126\n",
       "Unknown                   7865\n",
       "Name: OBJECTID, dtype: int64"
      ]
     },
     "execution_count": 6,
     "metadata": {},
     "output_type": "execute_result"
    }
   ],
   "source": [
    "sdfgroup=sdf.groupby(['class'])['OBJECTID'].count()\n",
    "sdfgroup"
   ]
  },
  {
   "cell_type": "markdown",
   "metadata": {},
   "source": [
    "Make a graph"
   ]
  },
  {
   "cell_type": "code",
   "execution_count": 7,
   "metadata": {},
   "outputs": [],
   "source": [
    "import matplotlib.pyplot as plt"
   ]
  },
  {
   "cell_type": "code",
   "execution_count": 8,
   "metadata": {},
   "outputs": [
    {
     "data": {
      "text/plain": [
       "<matplotlib.axes._subplots.AxesSubplot at 0x1ff54030240>"
      ]
     },
     "execution_count": 8,
     "metadata": {},
     "output_type": "execute_result"
    },
    {
     "data": {
      "image/png": "[encoded data removed]",
      "text/plain": [
       "<Figure size 432x288 with 1 Axes>"
      ]
     },
     "metadata": {
      "needs_background": "light"
     },
     "output_type": "display_data"
    }
   ],
   "source": [
    "sdfgroup.plot.bar()"
   ]
  },
  {
   "cell_type": "markdown",
   "metadata": {},
   "source": [
    "# Query the dataframe"
   ]
  },
  {
   "cell_type": "code",
   "execution_count": 9,
   "metadata": {},
   "outputs": [],
   "source": [
    "sdfARoads = sdf[sdf['class']=='A Road']"
   ]
  },
  {
   "cell_type": "code",
   "execution_count": 10,
   "metadata": {},
   "outputs": [
    {
     "data": {
      "text/plain": [
       "2329"
      ]
     },
     "execution_count": 10,
     "metadata": {},
     "output_type": "execute_result"
    }
   ],
   "source": [
    "sdfARoads['OBJECTID'].count()"
   ]
  },
  {
   "cell_type": "markdown",
   "metadata": {},
   "source": [
    "# Add a map to our notebook"
   ]
  },
  {
   "cell_type": "code",
   "execution_count": 11,
   "metadata": {},
   "outputs": [],
   "source": [
    "agol=GIS()"
   ]
  },
  {
   "cell_type": "code",
   "execution_count": 12,
   "metadata": {},
   "outputs": [
    {
     "data": {
      "application/vnd.jupyter.widget-view+json": {
       "model_id": "373b5bef51b743e7bb396866d982981e",
       "version_major": 2,
       "version_minor": 0
      },
      "text/plain": [
       "MapView(layout=Layout(height='400px', width='100%'))"
      ]
     },
     "metadata": {},
     "output_type": "display_data"
    },
    {
     "data": {
      "text/html": [
       "<div class=\"map-static-img-preview-92269c16-4db7-4a98-9340-063e54b4f394\"><img src=\"\"></img></div>"
      ],
      "text/plain": [
       "<IPython.core.display.HTML object>"
      ]
     },
     "metadata": {},
     "output_type": "display_data"
    }
   ],
   "source": [
    "m1 = agol.map()\n",
    "m1.basemap='os_open_background'\n",
    "m1"
   ]
  },
  {
   "cell_type": "markdown",
   "metadata": {},
   "source": [
    "Set the map extent"
   ]
  },
  {
   "cell_type": "code",
   "execution_count": 13,
   "metadata": {},
   "outputs": [],
   "source": [
    "m1.extent={'spatialReference': {'latestWkid': 27700, 'wkid': 27700},\n",
    " 'xmin': 424993.2379115089,\n",
    " 'ymin': 73324.90305999425,\n",
    " 'xmax': 488162.6350836366,\n",
    " 'ymax': 99783.28931010008}\n",
    "m1.mode='3D'\n",
    "m1.mode='2D'"
   ]
  },
  {
   "cell_type": "code",
   "execution_count": 15,
   "metadata": {},
   "outputs": [
    {
     "data": {
      "text/plain": [
       "True"
      ]
     },
     "execution_count": 15,
     "metadata": {},
     "output_type": "execute_result"
    }
   ],
   "source": [
    "sdfARoads.spatial.plot(map_widget=m1,\n",
    "            symbol_type='simple',\n",
    "            colors = 'Reds_r')"
   ]
  },
  {
   "cell_type": "code",
   "execution_count": 16,
   "metadata": {},
   "outputs": [
    {
     "data": {
      "text/plain": [
       "1985"
      ]
     },
     "execution_count": 16,
     "metadata": {},
     "output_type": "execute_result"
    }
   ],
   "source": [
    "sdfBRoads=sdf[sdf['class']=='B Road']\n",
    "sdfBRoads['OBJECTID'].count()"
   ]
  },
  {
   "cell_type": "code",
   "execution_count": 17,
   "metadata": {},
   "outputs": [
    {
     "data": {
      "text/plain": [
       "True"
      ]
     },
     "execution_count": 17,
     "metadata": {},
     "output_type": "execute_result"
    }
   ],
   "source": [
    "sdfBRoads.spatial.plot(map_widget=m1,\n",
    "            symbol_type='simple',\n",
    "            colors = 'Blues_r')"
   ]
  },
  {
   "cell_type": "markdown",
   "metadata": {},
   "source": [
    "# Spatial Joins in pandas"
   ]
  },
  {
   "cell_type": "markdown",
   "metadata": {},
   "source": [
    "intersect the A roads and the B Roads"
   ]
  },
  {
   "cell_type": "code",
   "execution_count": 19,
   "metadata": {},
   "outputs": [
    {
     "name": "stdout",
     "output_type": "stream",
     "text": [
      "<class 'pandas.core.frame.DataFrame'>\n",
      "RangeIndex: 190 entries, 0 to 189\n",
      "Data columns (total 41 columns):\n",
      "OBJECTID_left       190 non-null int64\n",
      "fictitious_left     190 non-null object\n",
      "identifier_left     190 non-null object\n",
      "class_left          190 non-null object\n",
      "roadNumber_left     190 non-null object\n",
      "name1_left          190 non-null object\n",
      "name1_lang_left     190 non-null object\n",
      "name2_left          190 non-null object\n",
      "name2_lang_left     190 non-null object\n",
      "formOfWay_left      190 non-null object\n",
      "length_left         190 non-null int64\n",
      "primary_left        190 non-null object\n",
      "trunkRoad_left      190 non-null object\n",
      "loop_left           190 non-null object\n",
      "startNode_left      190 non-null object\n",
      "endNode_left        190 non-null object\n",
      "structure_left      190 non-null object\n",
      "nameTOID_left       190 non-null object\n",
      "numberTOID_left     190 non-null object\n",
      "function_left       190 non-null object\n",
      "index_right         190 non-null int64\n",
      "OBJECTID_right      190 non-null int64\n",
      "fictitious_right    190 non-null object\n",
      "identifier_right    190 non-null object\n",
      "class_right         190 non-null object\n",
      "roadNumber_right    190 non-null object\n",
      "name1_right         190 non-null object\n",
      "name1_lang_right    190 non-null object\n",
      "name2_right         190 non-null object\n",
      "name2_lang_right    190 non-null object\n",
      "formOfWay_right     190 non-null object\n",
      "length_right        190 non-null int64\n",
      "primary_right       190 non-null object\n",
      "trunkRoad_right     190 non-null object\n",
      "loop_right          190 non-null object\n",
      "startNode_right     190 non-null object\n",
      "endNode_right       190 non-null object\n",
      "structure_right     190 non-null object\n",
      "nameTOID_right      190 non-null object\n",
      "numberTOID_right    190 non-null object\n",
      "function_right      190 non-null object\n",
      "dtypes: int64(5), object(36)\n",
      "memory usage: 60.9+ KB\n"
     ]
    }
   ],
   "source": [
    "sdfjoin=sdfBRoads.spatial.join(sdfARoads)\n",
    "sdfjoin.info()"
   ]
  },
  {
   "cell_type": "markdown",
   "metadata": {},
   "source": [
    "how many intersections?"
   ]
  },
  {
   "cell_type": "code",
   "execution_count": 20,
   "metadata": {},
   "outputs": [
    {
     "data": {
      "text/plain": [
       "190"
      ]
     },
     "execution_count": 20,
     "metadata": {},
     "output_type": "execute_result"
    }
   ],
   "source": [
    "sdfjoin['OBJECTID_left'].count()"
   ]
  },
  {
   "cell_type": "markdown",
   "metadata": {},
   "source": [
    "How many Unique classified roads intersect?"
   ]
  },
  {
   "cell_type": "code",
   "execution_count": 21,
   "metadata": {},
   "outputs": [
    {
     "data": {
      "text/plain": [
       "97"
      ]
     },
     "execution_count": 21,
     "metadata": {},
     "output_type": "execute_result"
    }
   ],
   "source": [
    "sdfjoin['OBJECTID_left'].nunique()"
   ]
  },
  {
   "cell_type": "code",
   "execution_count": 22,
   "metadata": {},
   "outputs": [
    {
     "data": {
      "text/plain": [
       "True"
      ]
     },
     "execution_count": 22,
     "metadata": {},
     "output_type": "execute_result"
    }
   ],
   "source": [
    "sdfjoin.spatial.plot(m1)"
   ]
  },
  {
   "cell_type": "markdown",
   "metadata": {},
   "source": [
    "# Use ArcPy Geoprocessing"
   ]
  },
  {
   "cell_type": "code",
   "execution_count": 23,
   "metadata": {},
   "outputs": [
    {
     "data": {
      "text/plain": [
       "<Result 'C:\\\\Data\\\\bufferoutput.shp'>"
      ]
     },
     "execution_count": 23,
     "metadata": {},
     "output_type": "execute_result"
    }
   ],
   "source": [
    "inputFeature = \"C:\\\\Data\\\\OSOpenRoadsSample.gdb\\\\SZ_RoadLink\"\n",
    "outputFeature = \"C:\\\\Data\\\\bufferoutput.shp\"\n",
    "bufferdist = '50 meters'\n",
    "arcpy.Buffer_analysis(inputFeature,outputFeature,bufferdist, \"\",\"\", \"ALL\")\n"
   ]
  },
  {
   "cell_type": "code",
   "execution_count": 24,
   "metadata": {},
   "outputs": [],
   "source": [
    "sdfBuffer = SpatialDataFrame.from_featureclass('C:\\\\Data\\\\bufferoutput.shp')"
   ]
  },
  {
   "cell_type": "code",
   "execution_count": 25,
   "metadata": {},
   "outputs": [
    {
     "data": {
      "text/plain": [
       "True"
      ]
     },
     "execution_count": 25,
     "metadata": {},
     "output_type": "execute_result"
    }
   ],
   "source": [
    "sdfBuffer.spatial.plot(m1)"
   ]
  },
  {
   "cell_type": "code",
   "execution_count": null,
   "metadata": {},
   "outputs": [],
   "source": []
  }
 ],
 "metadata": {
  "kernelspec": {
   "display_name": "Python 3",
   "language": "python",
   "name": "python3"
  },
  "language_info": {
   "codemirror_mode": {
    "name": "ipython",
    "version": 3
   },
   "file_extension": ".py",
   "mimetype": "text/x-python",
   "name": "python",
   "nbconvert_exporter": "python",
   "pygments_lexer": "ipython3",
   "version": "3.6.6"
  }
 },
 "nbformat": 4,
 "nbformat_minor": 2
}
